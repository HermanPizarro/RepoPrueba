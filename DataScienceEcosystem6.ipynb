{
 "cells": [
  {
   "cell_type": "markdown",
   "id": "022abb76",
   "metadata": {},
   "source": [
    "# Data Science Tools and Ecosystemutilizando "
   ]
  },
  {
   "cell_type": "markdown",
   "id": "1f891e56",
   "metadata": {},
   "source": [
    "# Introduccion\n",
    "In this notebook, Data Science Tools and Ecosystem are summarized"
   ]
  },
  {
   "cell_type": "markdown",
   "id": "6b687344",
   "metadata": {},
   "source": [
    "# **OBJETIVOS**\n",
    "\n",
    "- Lenguajes populares de la ciencia de dtaos\n",
    "- Librerias utilizadas en la ciencia de datos\n",
    "- Operaciones matematicas con Python\n",
    "\n"
   ]
  },
  {
   "cell_type": "markdown",
   "id": "e9ceb74d",
   "metadata": {},
   "source": [
    "\n",
    "# Some of the popular languages that Data Scientists use are:\n",
    "\n",
    "1. Python \n",
    "2. R \n",
    "3. Julia \n",
    "4. Scala \n"
   ]
  },
  {
   "cell_type": "markdown",
   "id": "b021522d",
   "metadata": {},
   "source": [
    "\n",
    "# Some of the commonly used libraries used by Data Scientists include:\n",
    "\n",
    "1. NumPy \n",
    "2. Pandas \n",
    "3. Matplotlib \n",
    "4. Scikit-learn \n",
    "5. TensorFlow \n"
   ]
  },
  {
   "cell_type": "markdown",
   "id": "f35939a0",
   "metadata": {},
   "source": [
    "\n",
    "| Data Science Tools |\n",
    "|--------------------|\n",
    "| Jupyter Notebook  |\n",
    "| RStudio           |\n",
    "| VS Code           |\n"
   ]
  },
  {
   "cell_type": "markdown",
   "id": "528fc713",
   "metadata": {},
   "source": [
    "### Below are a few examples of evaluating arithmetic expressions in Python.\n",
    "\n",
    "1. Suma:  `3 + 2 = 5`\n",
    "2. Resta: `10 - 4 = 6`\n",
    "3. Multiplicacion: `6 * 7 = 42`\n",
    "4. Division: `15 / 3 = 5.0`\n",
    "5. Exponenciacion: `2 ** 3 = 8`\n",
    "6. Resto: `10 % 3 = 1`"
   ]
  },
  {
   "cell_type": "code",
   "execution_count": 19,
   "id": "02599bee",
   "metadata": {},
   "outputs": [
    {
     "name": "stdout",
     "output_type": "stream",
     "text": [
      "El resultado de (3 * 4) + 5 es: 17\n"
     ]
    }
   ],
   "source": [
    "# Multiplica 3 por 4 y luego suma 5 y el resultado lo almaceno en la variable resu\n",
    "resu = (3 * 4) + 5\n",
    "\n",
    "# mostrar el resultado de la operación\n",
    "print(\"El resultado de (3 * 4) + 5 es:\", resu)"
   ]
  },
  {
   "cell_type": "code",
   "execution_count": 20,
   "id": "7d35677b",
   "metadata": {},
   "outputs": [
    {
     "name": "stdout",
     "output_type": "stream",
     "text": [
      "200 minutos son: 3.3333333333333335 horas\n"
     ]
    }
   ],
   "source": [
    "# Convertir 200 minutos a horas dividiendo entre 60 (minutos por hora)\n",
    "minutos = 200\n",
    "horas = minutos / 60\n",
    "\n",
    "# mostrar el resultado\n",
    "print(\"200 minutos son:\", horas, \"horas\")"
   ]
  },
  {
   "cell_type": "markdown",
   "id": "5dd41c5a",
   "metadata": {},
   "source": [
    "## Author\n",
    "\n",
    "Herman PIZARRO"
   ]
  },
  {
   "cell_type": "code",
   "execution_count": null,
   "id": "b40d0e38",
   "metadata": {},
   "outputs": [],
   "source": []
  }
 ],
 "metadata": {
  "kernelspec": {
   "display_name": "Python 3 (ipykernel)",
   "language": "python",
   "name": "python3"
  },
  "language_info": {
   "codemirror_mode": {
    "name": "ipython",
    "version": 3
   },
   "file_extension": ".py",
   "mimetype": "text/x-python",
   "name": "python",
   "nbconvert_exporter": "python",
   "pygments_lexer": "ipython3",
   "version": "3.11.9"
  }
 },
 "nbformat": 4,
 "nbformat_minor": 5
}
